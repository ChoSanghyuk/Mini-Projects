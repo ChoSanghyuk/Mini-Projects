{
 "cells": [
  {
   "cell_type": "code",
   "execution_count": 68,
   "metadata": {
    "scrolled": false
   },
   "outputs": [
    {
     "name": "stderr",
     "output_type": "stream",
     "text": [
      "C:\\Users\\Playdata\\anaconda3\\lib\\site-packages\\IPython\\core\\interactiveshell.py:3063: DtypeWarning: Columns (18,54,55,56,63,64,65,77,84,85,89,91,93) have mixed types.Specify dtype option on import or set low_memory=False.\n",
      "  interactivity=interactivity, compiler=compiler, result=result)\n"
     ]
    }
   ],
   "source": [
    "# import csv\n",
    "import pandas as pd\n",
    "import numpy as np\n",
    "from collections import Counter\n",
    "from itertools import islice\n",
    "import langid\n",
    "import re\n",
    "# from ip2geotools.databases.noncommercial import DbIpCity"
   ]
  },
  {
   "cell_type": "code",
   "execution_count": null,
   "metadata": {},
   "outputs": [],
   "source": [
    "input_file_name = 'C:/Users/Playdata/pytest/contest/eml_parse.csv'\n",
    "eml = pd.read_csv(input_file_name, encoding= 'utf8')"
   ]
  },
  {
   "cell_type": "code",
   "execution_count": 16,
   "metadata": {},
   "outputs": [],
   "source": [
    "df = eml[['MAIL_FROM', 'Received', 'Date', 'text_without_tag', 'include_url', 'num_of_imgs']]"
   ]
  },
  {
   "cell_type": "code",
   "execution_count": 33,
   "metadata": {},
   "outputs": [],
   "source": [
    "test_df = df.iloc[:50, :]"
   ]
  },
  {
   "cell_type": "code",
   "execution_count": 41,
   "metadata": {
    "scrolled": false
   },
   "outputs": [
    {
     "name": "stderr",
     "output_type": "stream",
     "text": [
      "C:\\Users\\Playdata\\anaconda3\\lib\\site-packages\\ipykernel_launcher.py:18: SettingWithCopyWarning: \n",
      "A value is trying to be set on a copy of a slice from a DataFrame.\n",
      "Try using .loc[row_indexer,col_indexer] = value instead\n",
      "\n",
      "See the caveats in the documentation: https://pandas.pydata.org/pandas-docs/stable/user_guide/indexing.html#returning-a-view-versus-a-copy\n"
     ]
    }
   ],
   "source": [
    "Months = ['Jan', 'Feb', 'Mar', 'Apr', 'May', 'Jun', 'Jul', 'Aug', 'Sep', 'Oct', 'Nov', \"Dec\"]\n",
    "temp = []\n",
    "\n",
    "for i in df['Date']:\n",
    "    is_empty = True\n",
    "    \n",
    "    if i is not np.nan:\n",
    "        for j in Months:\n",
    "            if j in i:\n",
    "                temp.append(j)\n",
    "                is_empty = False\n",
    "                break\n",
    "\n",
    "    if is_empty:\n",
    "        temp.append(np.nan)\n",
    "\n",
    "\n",
    "df['Month'] = pd.Series( temp , index=df.index )"
   ]
  },
  {
   "cell_type": "code",
   "execution_count": 44,
   "metadata": {},
   "outputs": [
    {
     "name": "stderr",
     "output_type": "stream",
     "text": [
      "C:\\Users\\Playdata\\anaconda3\\lib\\site-packages\\ipykernel_launcher.py:18: SettingWithCopyWarning: \n",
      "A value is trying to be set on a copy of a slice from a DataFrame.\n",
      "Try using .loc[row_indexer,col_indexer] = value instead\n",
      "\n",
      "See the caveats in the documentation: https://pandas.pydata.org/pandas-docs/stable/user_guide/indexing.html#returning-a-view-versus-a-copy\n"
     ]
    }
   ],
   "source": [
    "Days = ['Mon', 'Tue' , 'Wed' , 'Thu', 'Fri', 'Sat', 'Sun']\n",
    "temp = []\n",
    "\n",
    "for i in df['Date']:\n",
    "    is_empty = True\n",
    "    \n",
    "    if i is not np.nan:\n",
    "        for j in Days:\n",
    "            if j in i:\n",
    "                temp.append(j)\n",
    "                is_empty = False\n",
    "                break\n",
    "\n",
    "    if is_empty:\n",
    "        temp.append(np.nan)\n",
    "\n",
    "\n",
    "df['Day'] = pd.Series( temp , index=df.index )"
   ]
  },
  {
   "cell_type": "code",
   "execution_count": 62,
   "metadata": {
    "scrolled": true
   },
   "outputs": [
    {
     "name": "stderr",
     "output_type": "stream",
     "text": [
      "C:\\Users\\Playdata\\anaconda3\\lib\\site-packages\\ipykernel_launcher.py:12: SettingWithCopyWarning: \n",
      "A value is trying to be set on a copy of a slice from a DataFrame.\n",
      "Try using .loc[row_indexer,col_indexer] = value instead\n",
      "\n",
      "See the caveats in the documentation: https://pandas.pydata.org/pandas-docs/stable/user_guide/indexing.html#returning-a-view-versus-a-copy\n",
      "  if sys.path[0] == '':\n"
     ]
    }
   ],
   "source": [
    "temp = []\n",
    "for i in df['Date']:\n",
    "    is_empty = True\n",
    "    if i is not np.nan:\n",
    "        p = i.find(':')\n",
    "        if i[p-2:p].isdigit():\n",
    "            temp.append(i[p-2:p])\n",
    "            is_empty= False\n",
    "    if is_empty:\n",
    "        temp.append(np.nan )\n",
    "        \n",
    "df['Time'] = pd.Series( temp , index=df.index )"
   ]
  },
  {
   "cell_type": "code",
   "execution_count": 64,
   "metadata": {},
   "outputs": [
    {
     "name": "stderr",
     "output_type": "stream",
     "text": [
      "C:\\Users\\Playdata\\anaconda3\\lib\\site-packages\\ipykernel_launcher.py:9: SettingWithCopyWarning: \n",
      "A value is trying to be set on a copy of a slice from a DataFrame.\n",
      "Try using .loc[row_indexer,col_indexer] = value instead\n",
      "\n",
      "See the caveats in the documentation: https://pandas.pydata.org/pandas-docs/stable/user_guide/indexing.html#returning-a-view-versus-a-copy\n",
      "  if __name__ == '__main__':\n"
     ]
    }
   ],
   "source": [
    "temp = []\n",
    "\n",
    "for i in df['text_without_tag']:\n",
    "    if i is not np.nan:\n",
    "        temp.append(len(i))\n",
    "    else:\n",
    "        temp.append(np.nan )\n",
    "        \n",
    "df['length_of_text'] = pd.Series( temp , index=df.index )"
   ]
  },
  {
   "cell_type": "code",
   "execution_count": 72,
   "metadata": {
    "scrolled": true
   },
   "outputs": [
    {
     "name": "stderr",
     "output_type": "stream",
     "text": [
      "C:\\Users\\Playdata\\anaconda3\\lib\\site-packages\\ipykernel_launcher.py:10: SettingWithCopyWarning: \n",
      "A value is trying to be set on a copy of a slice from a DataFrame.\n",
      "Try using .loc[row_indexer,col_indexer] = value instead\n",
      "\n",
      "See the caveats in the documentation: https://pandas.pydata.org/pandas-docs/stable/user_guide/indexing.html#returning-a-view-versus-a-copy\n",
      "  # Remove the CWD from sys.path while we load stuff.\n"
     ]
    }
   ],
   "source": [
    "temp = []\n",
    "\n",
    "for i in df['text_without_tag']:\n",
    "    if i is not np.nan:\n",
    "        a = langid.classify(i)[0]\n",
    "        temp.append(a)\n",
    "    else:\n",
    "        temp.append(np.nan)\n",
    "\n",
    "df['main_language'] = pd.Series( temp , index=df.index )"
   ]
  },
  {
   "cell_type": "code",
   "execution_count": 75,
   "metadata": {},
   "outputs": [],
   "source": [
    "# counter = Counter(df['MAIL_FROM'])\n",
    "sorted_id_freq = sorted([i for i in counter.values()]) "
   ]
  },
  {
   "cell_type": "code",
   "execution_count": 82,
   "metadata": {},
   "outputs": [
    {
     "data": {
      "text/plain": [
       "Counter({1: 46249,\n",
       "         2: 16751,\n",
       "         3: 1927,\n",
       "         4: 1160,\n",
       "         5: 675,\n",
       "         6: 592,\n",
       "         7: 478,\n",
       "         8: 349,\n",
       "         9: 350,\n",
       "         10: 352,\n",
       "         11: 299,\n",
       "         12: 291,\n",
       "         13: 266,\n",
       "         14: 248,\n",
       "         15: 230,\n",
       "         16: 211,\n",
       "         17: 214,\n",
       "         18: 208,\n",
       "         19: 172,\n",
       "         20: 179,\n",
       "         21: 167,\n",
       "         22: 173,\n",
       "         23: 171,\n",
       "         24: 160,\n",
       "         25: 151,\n",
       "         26: 125,\n",
       "         27: 125,\n",
       "         28: 108,\n",
       "         29: 98,\n",
       "         30: 93,\n",
       "         31: 80,\n",
       "         32: 83,\n",
       "         33: 78,\n",
       "         34: 69,\n",
       "         35: 52,\n",
       "         36: 54,\n",
       "         37: 44,\n",
       "         38: 34,\n",
       "         39: 21,\n",
       "         40: 19,\n",
       "         41: 13,\n",
       "         42: 14,\n",
       "         43: 7,\n",
       "         44: 3,\n",
       "         45: 6,\n",
       "         46: 5,\n",
       "         47: 4,\n",
       "         48: 6,\n",
       "         49: 5,\n",
       "         50: 5,\n",
       "         51: 7,\n",
       "         52: 1,\n",
       "         53: 4,\n",
       "         54: 4,\n",
       "         55: 3,\n",
       "         56: 1,\n",
       "         57: 6,\n",
       "         58: 2,\n",
       "         59: 4,\n",
       "         60: 6,\n",
       "         61: 3,\n",
       "         62: 6,\n",
       "         63: 4,\n",
       "         64: 1,\n",
       "         66: 6,\n",
       "         67: 1,\n",
       "         68: 1,\n",
       "         69: 2,\n",
       "         70: 2,\n",
       "         71: 1,\n",
       "         72: 2,\n",
       "         73: 1,\n",
       "         74: 3,\n",
       "         76: 3,\n",
       "         77: 3,\n",
       "         78: 1,\n",
       "         79: 1,\n",
       "         80: 3,\n",
       "         82: 2,\n",
       "         83: 2,\n",
       "         86: 2,\n",
       "         87: 1,\n",
       "         88: 1,\n",
       "         89: 1,\n",
       "         90: 1,\n",
       "         91: 1,\n",
       "         93: 5,\n",
       "         94: 2,\n",
       "         95: 3,\n",
       "         96: 2,\n",
       "         97: 1,\n",
       "         99: 3,\n",
       "         100: 1,\n",
       "         101: 1,\n",
       "         102: 1,\n",
       "         104: 1,\n",
       "         106: 2,\n",
       "         107: 3,\n",
       "         108: 2,\n",
       "         109: 1,\n",
       "         110: 2,\n",
       "         111: 2,\n",
       "         115: 3,\n",
       "         116: 1,\n",
       "         118: 1,\n",
       "         120: 2,\n",
       "         123: 1,\n",
       "         124: 1,\n",
       "         125: 1,\n",
       "         126: 1,\n",
       "         128: 4,\n",
       "         130: 1,\n",
       "         132: 1,\n",
       "         133: 3,\n",
       "         134: 2,\n",
       "         135: 2,\n",
       "         137: 2,\n",
       "         140: 2,\n",
       "         141: 2,\n",
       "         142: 1,\n",
       "         145: 2,\n",
       "         146: 1,\n",
       "         147: 3,\n",
       "         149: 1,\n",
       "         151: 1,\n",
       "         153: 2,\n",
       "         155: 2,\n",
       "         157: 1,\n",
       "         159: 1,\n",
       "         160: 1,\n",
       "         162: 2,\n",
       "         164: 2,\n",
       "         166: 1,\n",
       "         167: 1,\n",
       "         170: 1,\n",
       "         171: 1,\n",
       "         177: 1,\n",
       "         178: 1,\n",
       "         181: 1,\n",
       "         183: 1,\n",
       "         184: 2,\n",
       "         186: 1,\n",
       "         187: 1,\n",
       "         188: 3,\n",
       "         189: 2,\n",
       "         191: 1,\n",
       "         192: 1,\n",
       "         195: 1,\n",
       "         196: 1,\n",
       "         199: 1,\n",
       "         201: 1,\n",
       "         203: 1,\n",
       "         204: 1,\n",
       "         205: 2,\n",
       "         208: 1,\n",
       "         209: 1,\n",
       "         210: 1,\n",
       "         211: 2,\n",
       "         217: 2,\n",
       "         218: 1,\n",
       "         220: 1,\n",
       "         222: 1,\n",
       "         223: 1,\n",
       "         227: 1,\n",
       "         233: 1,\n",
       "         234: 1,\n",
       "         235: 1,\n",
       "         237: 1,\n",
       "         245: 1,\n",
       "         246: 1,\n",
       "         247: 1,\n",
       "         248: 1,\n",
       "         251: 2,\n",
       "         253: 3,\n",
       "         254: 1,\n",
       "         256: 1,\n",
       "         263: 1,\n",
       "         269: 1,\n",
       "         270: 1,\n",
       "         272: 1,\n",
       "         273: 1,\n",
       "         276: 1,\n",
       "         284: 1,\n",
       "         289: 1,\n",
       "         292: 1,\n",
       "         300: 1,\n",
       "         302: 1,\n",
       "         306: 1,\n",
       "         309: 1,\n",
       "         315: 1,\n",
       "         318: 1,\n",
       "         320: 2,\n",
       "         322: 1,\n",
       "         329: 1,\n",
       "         334: 2,\n",
       "         336: 1,\n",
       "         339: 1,\n",
       "         341: 1,\n",
       "         343: 1,\n",
       "         346: 1,\n",
       "         349: 1,\n",
       "         350: 1,\n",
       "         359: 1,\n",
       "         360: 1,\n",
       "         361: 1,\n",
       "         364: 1,\n",
       "         377: 1,\n",
       "         385: 1,\n",
       "         423: 2,\n",
       "         431: 1,\n",
       "         434: 1,\n",
       "         447: 1,\n",
       "         470: 2,\n",
       "         472: 1,\n",
       "         477: 1,\n",
       "         478: 1,\n",
       "         480: 1,\n",
       "         487: 1,\n",
       "         491: 2,\n",
       "         493: 1,\n",
       "         499: 1,\n",
       "         509: 1,\n",
       "         516: 1,\n",
       "         518: 1,\n",
       "         526: 1,\n",
       "         527: 1,\n",
       "         533: 1,\n",
       "         558: 1,\n",
       "         567: 1,\n",
       "         572: 1,\n",
       "         581: 1,\n",
       "         590: 1,\n",
       "         592: 1,\n",
       "         595: 1,\n",
       "         622: 1,\n",
       "         632: 1,\n",
       "         634: 1,\n",
       "         659: 1,\n",
       "         663: 1,\n",
       "         668: 1,\n",
       "         676: 1,\n",
       "         677: 1,\n",
       "         686: 1,\n",
       "         690: 1,\n",
       "         710: 1,\n",
       "         732: 1,\n",
       "         794: 1,\n",
       "         795: 1,\n",
       "         868: 1,\n",
       "         899: 1,\n",
       "         924: 1,\n",
       "         939: 2,\n",
       "         951: 1,\n",
       "         1034: 1,\n",
       "         1070: 1,\n",
       "         1227: 1,\n",
       "         1287: 1,\n",
       "         1292: 1,\n",
       "         1294: 1,\n",
       "         1304: 1,\n",
       "         1342: 1,\n",
       "         1355: 1,\n",
       "         1365: 1,\n",
       "         1384: 1,\n",
       "         1386: 1,\n",
       "         1394: 1,\n",
       "         1418: 1,\n",
       "         1487: 1,\n",
       "         1504: 1,\n",
       "         1586: 1,\n",
       "         1659: 1,\n",
       "         1802: 1,\n",
       "         1805: 1,\n",
       "         1831: 1,\n",
       "         1843: 1,\n",
       "         1875: 1,\n",
       "         2011: 1,\n",
       "         2025: 1,\n",
       "         2370: 1,\n",
       "         2450: 1,\n",
       "         2457: 1,\n",
       "         2468: 1,\n",
       "         2492: 1,\n",
       "         2495: 1,\n",
       "         2581: 1,\n",
       "         2583: 1,\n",
       "         2591: 1,\n",
       "         2595: 2,\n",
       "         2643: 1,\n",
       "         2648: 1,\n",
       "         2654: 1,\n",
       "         2664: 1,\n",
       "         2665: 1,\n",
       "         2688: 1,\n",
       "         2812: 2,\n",
       "         2816: 1,\n",
       "         2825: 1,\n",
       "         2893: 1,\n",
       "         3180: 1,\n",
       "         3259: 1,\n",
       "         10025: 1,\n",
       "         10058: 1,\n",
       "         10069: 1,\n",
       "         10091: 1,\n",
       "         10104: 1,\n",
       "         10194: 1,\n",
       "         10199: 1,\n",
       "         10248: 1,\n",
       "         10256: 1,\n",
       "         13253: 1,\n",
       "         14564: 1,\n",
       "         30418: 1,\n",
       "         30620: 1,\n",
       "         51928: 1,\n",
       "         53136: 1,\n",
       "         54967: 1})"
      ]
     },
     "execution_count": 82,
     "metadata": {},
     "output_type": "execute_result"
    }
   ],
   "source": [
    "a = len(sorted_id_freq)\n",
    "a , len(df)\n",
    "Counter(sorted_id_freq)"
   ]
  },
  {
   "cell_type": "code",
   "execution_count": 84,
   "metadata": {},
   "outputs": [],
   "source": [
    "A_list = [ i[0] for i in counter.items() if i[1] >= 10000 ]\n",
    "B_list = [ i[0] for i in counter.items() if i[1] < 10000 and i[1] >= 1000 ]\n",
    "C_list = [ i[0] for i in counter.items() if i[1] < 1000 and i[1] >= 100 ]\n",
    "A_list.remove(np.nan)\n",
    "# D_list = [ i[0] for i in counter.items if i[1] < quart1 ]"
   ]
  },
  {
   "cell_type": "code",
   "execution_count": 90,
   "metadata": {
    "scrolled": true
   },
   "outputs": [
    {
     "name": "stderr",
     "output_type": "stream",
     "text": [
      "C:\\Users\\Playdata\\anaconda3\\lib\\site-packages\\ipykernel_launcher.py:16: SettingWithCopyWarning: \n",
      "A value is trying to be set on a copy of a slice from a DataFrame.\n",
      "Try using .loc[row_indexer,col_indexer] = value instead\n",
      "\n",
      "See the caveats in the documentation: https://pandas.pydata.org/pandas-docs/stable/user_guide/indexing.html#returning-a-view-versus-a-copy\n",
      "  app.launch_new_instance()\n"
     ]
    }
   ],
   "source": [
    "temp = []\n",
    "\n",
    "for i in df['MAIL_FROM']:\n",
    "    if i is np.nan:\n",
    "        temp.append(np.nan)\n",
    "        continue\n",
    "    if i in A_list:\n",
    "        temp.append('A')\n",
    "    elif i in B_list:\n",
    "        temp.append('B')\n",
    "    elif i in C_list:\n",
    "        temp.append('C')\n",
    "    else:\n",
    "        temp.append('D')\n",
    "\n",
    "df['Group'] = pd.Series( temp , index=df.index )"
   ]
  },
  {
   "cell_type": "code",
   "execution_count": 102,
   "metadata": {},
   "outputs": [
    {
     "name": "stderr",
     "output_type": "stream",
     "text": [
      "C:\\Users\\Playdata\\anaconda3\\lib\\site-packages\\ipykernel_launcher.py:16: SettingWithCopyWarning: \n",
      "A value is trying to be set on a copy of a slice from a DataFrame.\n",
      "Try using .loc[row_indexer,col_indexer] = value instead\n",
      "\n",
      "See the caveats in the documentation: https://pandas.pydata.org/pandas-docs/stable/user_guide/indexing.html#returning-a-view-versus-a-copy\n",
      "  app.launch_new_instance()\n"
     ]
    }
   ],
   "source": [
    "temp = []\n",
    "\n",
    "for i in df['Received']:\n",
    "    is_empty = True\n",
    "    \n",
    "    if i is not np.nan:\n",
    "        ip = re.findall(r'([0-9]{1,3})\\.([0-9]{1,3})\\.([0-9]{1,3})\\.([0-9]{1,3})', i)\n",
    "        if len(ip) >0:\n",
    "            com_ip = ip[0][0]+'.'+ip[0][1]+'.'+ip[0][2]+'.'+ip[0][3]\n",
    "            temp.append(com_ip)\n",
    "            is_empty = False\n",
    "    # Received가 비어있거나, ip가 없을때 NaN처리\n",
    "    if is_empty:\n",
    "        temp.append(np.nan)\n",
    "    \n",
    "df['ip'] = pd.Series( temp , index=df.index )"
   ]
  },
  {
   "cell_type": "code",
   "execution_count": 104,
   "metadata": {},
   "outputs": [],
   "source": [
    "df.to_csv('C:/Users/Playdata/pytest/contest/main_df.csv', sep=',', index = False)"
   ]
  },
  {
   "cell_type": "code",
   "execution_count": null,
   "metadata": {},
   "outputs": [],
   "source": [
    "# counter = Counter(eml['MAIL_FROM'])\n",
    "# Sender = list(sorted(counter.items(),key=lambda x: -x[1]))\n",
    "\n",
    "# Sender_df = pd.DataFrame(data= Sender , columns = ['send_id', 'Frequency'])\n",
    "# Sender_df.to_csv('C:/Users/Playdata/pytest/contest/graph/Sender_id.csv', sep=',', index = False)"
   ]
  }
 ],
 "metadata": {
  "kernelspec": {
   "display_name": "Python 3",
   "language": "python",
   "name": "python3"
  },
  "language_info": {
   "codemirror_mode": {
    "name": "ipython",
    "version": 3
   },
   "file_extension": ".py",
   "mimetype": "text/x-python",
   "name": "python",
   "nbconvert_exporter": "python",
   "pygments_lexer": "ipython3",
   "version": "3.7.6"
  }
 },
 "nbformat": 4,
 "nbformat_minor": 4
}
