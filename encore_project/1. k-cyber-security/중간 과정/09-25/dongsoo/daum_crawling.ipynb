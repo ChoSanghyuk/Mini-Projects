{
 "cells": [
  {
   "cell_type": "code",
   "execution_count": 3,
   "metadata": {},
   "outputs": [],
   "source": [
    "# 0925 조동수 daum 댓글 csv파일로 저장하는 코드입니다\n",
    "from selenium import webdriver\n",
    "import requests\n",
    "from bs4 import BeautifulSoup as bs\n",
    "\n",
    "import pandas as pd\n",
    "import time"
   ]
  },
  {
   "cell_type": "code",
   "execution_count": 29,
   "metadata": {},
   "outputs": [],
   "source": [
    "# url진입 후 댓글 크롤링\n",
    "def get_news(daum_url_list,like_fix,daum_num):\n",
    "\n",
    "    title_list = []       # 제목\n",
    "    news_date_list = []   # 날짜\n",
    "    contents_list = []    # 댓글\n",
    "    like_num_list = []    # 좋아요 수\n",
    "    \n",
    "    driver = webdriver.Chrome(\"./chromedriver.exe\")\n",
    "\n",
    "    for i in range(daum_num):\n",
    "        \n",
    "        driver.get(daum_url_list[i])  # url진입\n",
    "        print(daum_url_list[i])       \n",
    "        time.sleep(3)\n",
    "\n",
    "        try:                            # 더보기 항목이 없을 때까지 클릭\n",
    "            while driver.find_element_by_xpath('/html/body/div[2]/div[3]/div[2]/div[1]/div[2]/div[6]/div/div/div/div/div[3]/div[2]/button').text !='': \n",
    "                driver.find_element_by_xpath('/html/body/div[2]/div[3]/div[2]/div[1]/div[2]/div[6]/div/div/div/div/div[3]/div[2]/button').click()         \n",
    "                time.sleep(3)\n",
    "        except: pass\n",
    "\n",
    "        time.sleep(2)\n",
    "        \n",
    "        # url 당 10개의 댓글 확인\n",
    "        for check in range(1,10):\n",
    "            try:             \n",
    "                # 좋아요 수 체크\n",
    "                like_num = driver.find_element_by_xpath(\"/html/body/div[2]/div[3]/div[2]/div[1]/div[2]/div[6]/div/div/div/div/div[3]/ul[2]/li[\" +str(check)+ \"]/div/div/span[2]/button[1]/span[2]\").text\n",
    "\n",
    "                # 좋아요 수가 정해진 값을 넘으면 출력\n",
    "                if int(like_num) >= like_fix:\n",
    "                    \n",
    "                    title = driver.find_element_by_xpath(\"/html/body/div[2]/div[3]/div[1]/div/h3\").text # 제목 추출\n",
    "\n",
    "                    news_date = driver.find_element_by_css_selector('.num_date')  # 날짜 추출\n",
    "                    news_date = news_date.text[:11]  \n",
    "                    \n",
    "                    contents = driver.find_element_by_xpath('/html/body/div[2]/div[3]/div[2]/div[1]/div[2]/div[6]/div/div/div/div/div[3]/ul[2]/li[' +str(check)+']/div/p').text # 댓글 추출\n",
    "                    contents = contents.replace('\\n',\" \")  # 줄 바꿈 무시\n",
    "                   \n",
    "                    news_date_list.append(news_date)\n",
    "                    title_list.append(title)\n",
    "                    contents_list.append(contents)\n",
    "                    like_num_list.append(like_num)\n",
    "            except: pass\n",
    "\n",
    "        # dateframe 형식으로 만들어줌\n",
    "        df = pd.DataFrame({'Date':news_date_list,\\\n",
    "                'Title':title_list,\\\n",
    "                'Content':contents_list,\\\n",
    "                'Like':like_num_list})\n",
    "        \n",
    "        df.to_csv('daum_crawling_long.csv') "
   ]
  },
  {
   "cell_type": "code",
   "execution_count": null,
   "metadata": {},
   "outputs": [],
   "source": [
    "def crawling(query,daum_num,like_fix):\n",
    "\n",
    "    page = 1                                    # 페이지 넘기기\n",
    "    daum_url_list = []\n",
    "    while len(daum_url_list) < daum_num:        # 사이트 수를 맞출 때까지\n",
    "        url = 'https://search.daum.net/search?w=news&sort=recency&q='+query+'&cluster=n&DA=STC&dc=STC&pg=1&r=1&p='+str(page)+'&rc=1&at=more'\n",
    "        web = requests.get(url).content\n",
    "        source = bs(web,'html.parser')\n",
    "\n",
    "        for urls in source.find_all('a',{'class':'f_link_b'}):  \n",
    "            if urls['href'][-3:] == 'f=o':                                       # 다음뉴스 url 확인\n",
    "                upload_time = urls['href'][-21:-4]                               # 날짜만 가져옴\n",
    "                daum_url = \"http://news.v.daum.net/v/\" + upload_time             # 다음 뉴스 url 만들어줌\n",
    "                daum_url_list.append(daum_url)\n",
    "        page += 1                                                                # 사이트 수를 맞출때까지 페이즈를 넘겨라\n",
    "    get_news(daum_url_list,like_fix,daum_num)"
   ]
  },
  {
   "cell_type": "code",
   "execution_count": 35,
   "metadata": {
    "scrolled": false
   },
   "outputs": [],
   "source": [
    " def crawling(query):\n",
    "        \n",
    "    url = 'https://search.daum.net/search?w=news&sort=recency&q='+query+'&cluster=n&DA=STC&dc=STC&pg=1&r=1&p=1&rc=1&at=more&sd=&ed=&period='\n",
    "    web = requests.get(url).content\n",
    "    source = bs(web,\"html.parser\")\n",
    "    f = open('daum_crawling.csv','w',encoding='utf-8')\n",
    "\n",
    "    date_list = []            # 날짜\n",
    "    all_url_content = []      # 페이지에 있는 모든 뉴스 url 리스트\n",
    "    daum_url_list = []        # 다음뉴스의 url의 리스트\n",
    "    url_num = 10              # 추출할 url 수\n",
    "    page = 1                  # 페이지 넘기기\n",
    "\n",
    "\n",
    "    while len(daum_url_list) < url_num:\n",
    "        print(page)\n",
    "        page += 1\n",
    "        for urls in source.find_all('a',{'class' : 'f_link_b'}):\n",
    "            all_url_content.append(urls['href']) \n",
    "        for i in all_url_content:                                          # 무조건 다음뉴스의 url은 f=o으로 끝남\n",
    "            if i[-3:] == \"f=o\":\n",
    "                upload_time = i[-21:-4]                                     # 기사 업로드 시간만 슬라이싱\n",
    "\n",
    "    #             date = upload_time[:8]                                      # 업로드날짜\n",
    "    #             date_list.append(date)\n",
    "\n",
    "                daum_url = \"http://news.v.daum.net/v/\" + upload_time  # daum 뉴스 url 형식에 기사 업로드 시간 융합\n",
    "                daum_url_list.append(daum_url)\n",
    "                print(daum_url)\n",
    "#         driver.find_element_by_xpath('/html/body/article/article/div/article/div/div[2]/div[1]/div[4]/span/span[2]/a['+str(page)+']').click()\n",
    "\n",
    "    # print(urls_list)"
   ]
  },
  {
   "cell_type": "code",
   "execution_count": 36,
   "metadata": {},
   "outputs": [
    {
     "name": "stdout",
     "output_type": "stream",
     "text": [
      "1\n",
      "http://news.v.daum.net/v/20200921112614532\n",
      "http://news.v.daum.net/v/20200921110328322\n",
      "http://news.v.daum.net/v/20200921091037348\n",
      "2\n",
      "http://news.v.daum.net/v/20200921112614532\n",
      "http://news.v.daum.net/v/20200921110328322\n",
      "http://news.v.daum.net/v/20200921091037348\n",
      "http://news.v.daum.net/v/20200921112614532\n",
      "http://news.v.daum.net/v/20200921110328322\n",
      "http://news.v.daum.net/v/20200921091037348\n",
      "3\n",
      "http://news.v.daum.net/v/20200921112614532\n",
      "http://news.v.daum.net/v/20200921110328322\n",
      "http://news.v.daum.net/v/20200921091037348\n",
      "http://news.v.daum.net/v/20200921112614532\n",
      "http://news.v.daum.net/v/20200921110328322\n",
      "http://news.v.daum.net/v/20200921091037348\n",
      "http://news.v.daum.net/v/20200921112614532\n",
      "http://news.v.daum.net/v/20200921110328322\n",
      "http://news.v.daum.net/v/20200921091037348\n"
     ]
    }
   ],
   "source": [
    "if __name__=='__main__':\n",
    "    query = '공공의대'\n",
    "    like_fix = 10   # 좋아요 수 \n",
    "    daum_num = 100  # 사이트 수\n",
    "    crawling(query,daum_num,like_fix)"
   ]
  }
 ],
 "metadata": {
  "kernelspec": {
   "display_name": "Python 3",
   "language": "python",
   "name": "python3"
  },
  "language_info": {
   "codemirror_mode": {
    "name": "ipython",
    "version": 3
   },
   "file_extension": ".py",
   "mimetype": "text/x-python",
   "name": "python",
   "nbconvert_exporter": "python",
   "pygments_lexer": "ipython3",
   "version": "3.7.6"
  }
 },
 "nbformat": 4,
 "nbformat_minor": 4
}
